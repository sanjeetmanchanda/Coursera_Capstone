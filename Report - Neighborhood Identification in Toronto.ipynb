{
    "cells": [
        {
            "cell_type": "markdown",
            "metadata": {
                "collapsed": true
            },
            "source": ""
        },
        {
            "cell_type": "markdown",
            "metadata": {},
            "source": "# **Introduction/Business Problem:** \n\nRestaurant industry is one of the most dynamic industries across the world. In order to be successful, one needs to find the perfect recipe - not just for the food but the venture itself. \n\nOne of the initial key business decisions is determining the location. It has to be carefully selected based on the demographics and competition view. \n\nThis is a report based on a data science oriented study, undertaken to identify suitable neighbourhoods in the city of Toronto, Canada for a Vegetarian / Vegan restaurant. \n\n\n**Hypothesis:**\n\nThis study is based on the hypothesis that a majority of Yoga practitioners will also eventually adopt a plant based diet as prescribed by the discipline of yoga. While this study does not venture into proving the relationship - this assumption is based on previously published material, cited in the data section of this report.  \n\n\n# **Data Sources:**\n\n1. Foursquare API to identify the Trending venues in Toronto\n\nFoursquare provides rich location content from over 100K trusted sources and driven by millions of consumers. For the purpose of this study we connected to a foursquare database via an API call. \n\nFoursquare\u2019s explore query provides a list of trending venues based on the location data submitted to it. \n\nhttps://developer.foursquare.com/developer/\n \n2. Wikipedia: List of Neighborhoods in Toronto\n\n\nhttps://en.wikipedia.org/wiki/List_of_postal_codes_of_Canada:_M, \n\n3. List of Postal Codes in Toronto - Coursera Database\n\nhttp://cocl.us/Geospatial_data\n\n4. Yoga & Vegetarianism relationship Assumption\n\nHenning Stanfield, Pierre Gerber, Tom Wassenaar, Vincent Castel, and Mauricio Rosales, Livestock's Long Shadow: Environmental Issues and Options (Food and Agriculture Organization of the United Nations, 2006).\n\nCopyright 2008 by Sharon Gannon. Published by Mandala Publishing. All rights reserved. Used with permission.\n \n\n"
        },
        {
            "cell_type": "markdown",
            "metadata": {},
            "source": ""
        },
        {
            "cell_type": "markdown",
            "metadata": {},
            "source": ""
        }
    ],
    "metadata": {
        "kernelspec": {
            "display_name": "Python 3.7",
            "language": "python",
            "name": "python3"
        },
        "language_info": {
            "codemirror_mode": {
                "name": "ipython",
                "version": 3
            },
            "file_extension": ".py",
            "mimetype": "text/x-python",
            "name": "python",
            "nbconvert_exporter": "python",
            "pygments_lexer": "ipython3",
            "version": "3.7.9"
        }
    },
    "nbformat": 4,
    "nbformat_minor": 1
}